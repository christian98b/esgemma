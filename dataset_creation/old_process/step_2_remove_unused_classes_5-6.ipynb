{
 "cells": [
  {
   "cell_type": "markdown",
   "metadata": {},
   "source": [
    "First load the xlsx nutzerdata without chinese as this dataset is already prepared with only using sentences from companies and we removed all data that contains non roman letters and foreign languages."
   ]
  },
  {
   "cell_type": "code",
   "execution_count": 2,
   "metadata": {},
   "outputs": [
    {
     "name": "stdout",
     "output_type": "stream",
     "text": [
      "Collecting imbalanced-learn\n",
      "  Downloading imbalanced_learn-0.12.3-py3-none-any.whl.metadata (8.3 kB)\n",
      "Requirement already satisfied: numpy>=1.17.3 in /Users/christianbruns/.pyenv/versions/3.12.3/lib/python3.12/site-packages (from imbalanced-learn) (1.26.4)\n",
      "Requirement already satisfied: scipy>=1.5.0 in /Users/christianbruns/.pyenv/versions/3.12.3/lib/python3.12/site-packages (from imbalanced-learn) (1.13.1)\n",
      "Requirement already satisfied: scikit-learn>=1.0.2 in /Users/christianbruns/.pyenv/versions/3.12.3/lib/python3.12/site-packages (from imbalanced-learn) (1.5.0)\n",
      "Requirement already satisfied: joblib>=1.1.1 in /Users/christianbruns/.pyenv/versions/3.12.3/lib/python3.12/site-packages (from imbalanced-learn) (1.4.2)\n",
      "Requirement already satisfied: threadpoolctl>=2.0.0 in /Users/christianbruns/.pyenv/versions/3.12.3/lib/python3.12/site-packages (from imbalanced-learn) (3.5.0)\n",
      "Downloading imbalanced_learn-0.12.3-py3-none-any.whl (258 kB)\n",
      "\u001b[2K   \u001b[90m━━━━━━━━━━━━━━━━━━━━━━━━━━━━━━━━━━━━━━━━\u001b[0m \u001b[32m258.3/258.3 kB\u001b[0m \u001b[31m4.2 MB/s\u001b[0m eta \u001b[36m0:00:00\u001b[0ma \u001b[36m0:00:01\u001b[0m\n",
      "\u001b[?25hInstalling collected packages: imbalanced-learn\n",
      "Successfully installed imbalanced-learn-0.12.3\n",
      "Note: you may need to restart the kernel to use updated packages.\n",
      "Collecting git+https://github.com/scikit-learn-contrib/imbalanced-learn.git@master\n",
      "  Cloning https://github.com/scikit-learn-contrib/imbalanced-learn.git (to revision master) to /private/var/folders/xs/1mhprzwx46939b9pzllqkp3m0000gn/T/pip-req-build-lgh29dgv\n",
      "  Running command git clone --filter=blob:none --quiet https://github.com/scikit-learn-contrib/imbalanced-learn.git /private/var/folders/xs/1mhprzwx46939b9pzllqkp3m0000gn/T/pip-req-build-lgh29dgv\n",
      "  Resolved https://github.com/scikit-learn-contrib/imbalanced-learn.git to commit 2b6269f9aaea5f058606bf318b8bc36150137dd6\n",
      "  Installing build dependencies ... \u001b[?25ldone\n",
      "\u001b[?25h  Getting requirements to build wheel ... \u001b[?25ldone\n",
      "\u001b[?25h  Installing backend dependencies ... \u001b[?25ldone\n",
      "\u001b[?25h  Preparing metadata (pyproject.toml) ... \u001b[?25ldone\n",
      "\u001b[?25hRequirement already satisfied: numpy>=1.17.3 in /Users/christianbruns/.pyenv/versions/3.12.3/lib/python3.12/site-packages (from imbalanced-learn==0.13.0.dev0) (1.26.4)\n",
      "Requirement already satisfied: scipy>=1.5.0 in /Users/christianbruns/.pyenv/versions/3.12.3/lib/python3.12/site-packages (from imbalanced-learn==0.13.0.dev0) (1.13.1)\n",
      "Requirement already satisfied: scikit-learn>=1.0.2 in /Users/christianbruns/.pyenv/versions/3.12.3/lib/python3.12/site-packages (from imbalanced-learn==0.13.0.dev0) (1.5.0)\n",
      "Requirement already satisfied: joblib>=1.1.1 in /Users/christianbruns/.pyenv/versions/3.12.3/lib/python3.12/site-packages (from imbalanced-learn==0.13.0.dev0) (1.4.2)\n",
      "Requirement already satisfied: threadpoolctl>=2.0.0 in /Users/christianbruns/.pyenv/versions/3.12.3/lib/python3.12/site-packages (from imbalanced-learn==0.13.0.dev0) (3.5.0)\n",
      "Building wheels for collected packages: imbalanced-learn\n",
      "  Building wheel for imbalanced-learn (pyproject.toml) ... \u001b[?25ldone\n",
      "\u001b[?25h  Created wheel for imbalanced-learn: filename=imbalanced_learn-0.13.0.dev0-py3-none-any.whl size=258373 sha256=dd1216d1114cade31e6895346484cb452ae48f24fbaf439fe037a9be6fd5e071\n",
      "  Stored in directory: /private/var/folders/xs/1mhprzwx46939b9pzllqkp3m0000gn/T/pip-ephem-wheel-cache-gklcnno7/wheels/9e/0b/5e/14cfcca5e504a4b8c686aef873e94e243399cfff14ceefced0\n",
      "Successfully built imbalanced-learn\n",
      "Installing collected packages: imbalanced-learn\n",
      "  Attempting uninstall: imbalanced-learn\n",
      "    Found existing installation: imbalanced-learn 0.12.3\n",
      "    Uninstalling imbalanced-learn-0.12.3:\n",
      "      Successfully uninstalled imbalanced-learn-0.12.3\n",
      "Successfully installed imbalanced-learn-0.13.0.dev0\n",
      "Note: you may need to restart the kernel to use updated packages.\n"
     ]
    }
   ],
   "source": [
    "%pip install -U imbalanced-learn\n",
    "%pip install git+https://github.com/scikit-learn-contrib/imbalanced-learn.git@master"
   ]
  },
  {
   "cell_type": "code",
   "execution_count": 1,
   "metadata": {},
   "outputs": [],
   "source": [
    "import pandas as pd\n",
    "import matplotlib.pyplot as plt\n",
    "from imblearn.over_sampling import RandomOverSampler"
   ]
  },
  {
   "cell_type": "code",
   "execution_count": 20,
   "metadata": {},
   "outputs": [],
   "source": [
    "data = pd.read_excel('datasets/5-removed-lines-with-url.xlsx')"
   ]
  },
  {
   "cell_type": "code",
   "execution_count": 21,
   "metadata": {},
   "outputs": [
    {
     "data": {
      "text/plain": [
       "(end_target_text_sanitized\n",
       " 78     18\n",
       " 33     14\n",
       " 127    12\n",
       " 56     11\n",
       " 57     11\n",
       "        ..\n",
       " 500     1\n",
       " 700     1\n",
       " 355     1\n",
       " 662     1\n",
       " 479     1\n",
       " Name: count, Length: 448, dtype: int64,\n",
       " 1435)"
      ]
     },
     "execution_count": 21,
     "metadata": {},
     "output_type": "execute_result"
    }
   ],
   "source": [
    "string_lengths = data['end_target_text_sanitized'].str.len()\n",
    "string_length_distribution = string_lengths.value_counts()\n",
    "string_length_distribution, len(data)"
   ]
  },
  {
   "cell_type": "code",
   "execution_count": 22,
   "metadata": {},
   "outputs": [
    {
     "data": {
      "image/png": "[encoded data removed]",
      "text/plain": [
       "<Figure size 640x480 with 1 Axes>"
      ]
     },
     "metadata": {},
     "output_type": "display_data"
    }
   ],
   "source": [
    "plt.bar(string_length_distribution.index, string_length_distribution.values)\n",
    "plt.xlabel('String Length')\n",
    "plt.ylabel('Count')\n",
    "plt.title('Distribution of String Lengths')\n",
    "plt.show()"
   ]
  },
  {
   "cell_type": "code",
   "execution_count": 23,
   "metadata": {},
   "outputs": [
    {
     "data": {
      "text/plain": [
       "(end_target\n",
       " Net zero                      758\n",
       " Carbon neutral(ity)           274\n",
       " Emissions reduction target    220\n",
       " Climate neutral                46\n",
       " Emissions intensity target     41\n",
       " Other                          26\n",
       " Science-based target           25\n",
       " Zero emissions                 13\n",
       " Zero carbon                     8\n",
       " 1.5°C target                    7\n",
       " Climate positive                6\n",
       " Carbon negative                 6\n",
       " Absolute emissions target       2\n",
       " Net negative                    1\n",
       " GHG neutral(ity)                1\n",
       " No target                       1\n",
       " Name: count, dtype: int64,\n",
       " count    1435.000000\n",
       " mean      200.160279\n",
       " std       185.712671\n",
       " min         9.000000\n",
       " 25%        87.000000\n",
       " 50%       153.000000\n",
       " 75%       257.500000\n",
       " max      3432.000000\n",
       " Name: end_target_text_sanitized, dtype: float64)"
      ]
     },
     "execution_count": 23,
     "metadata": {},
     "output_type": "execute_result"
    }
   ],
   "source": [
    "data['end_target'].value_counts(), string_lengths.describe()"
   ]
  },
  {
   "cell_type": "code",
   "execution_count": 24,
   "metadata": {},
   "outputs": [
    {
     "data": {
      "text/plain": [
       "(end_target\n",
       " Net zero                      758\n",
       " Carbon neutral(ity)           274\n",
       " Emissions reduction target    220\n",
       " Climate neutral                46\n",
       " Emissions intensity target     41\n",
       " Other                          26\n",
       " Science-based target           25\n",
       " Zero emissions                 13\n",
       " Zero carbon                     8\n",
       " 1.5°C target                    7\n",
       " Climate positive                6\n",
       " Carbon negative                 6\n",
       " Absolute emissions target       2\n",
       " Net negative                    1\n",
       " GHG neutral(ity)                1\n",
       " No target                       1\n",
       " Name: count, dtype: int64,\n",
       " count    1435.000000\n",
       " mean      200.160279\n",
       " std       185.712671\n",
       " min         9.000000\n",
       " 25%        87.000000\n",
       " 50%       153.000000\n",
       " 75%       257.500000\n",
       " max      3432.000000\n",
       " Name: end_target_text_sanitized, dtype: float64)"
      ]
     },
     "execution_count": 24,
     "metadata": {},
     "output_type": "execute_result"
    }
   ],
   "source": [
    "data['end_target'].value_counts(), string_lengths.describe()"
   ]
  },
  {
   "cell_type": "markdown",
   "metadata": {},
   "source": [
    "No we drop every coloum where the end_target is not in end_target_text_extended and the end_target_year is not none"
   ]
  },
  {
   "cell_type": "code",
   "execution_count": 25,
   "metadata": {},
   "outputs": [
    {
     "name": "stdout",
     "output_type": "stream",
     "text": [
      "2       Grupo Bimbo, the largest baking company in the...\n",
      "4       Aim to achieve Net Zero by 2040.\\nAlso aiming ...\n",
      "5       In March of 2021, we set two near-term climate...\n",
      "6       RBI has set a target to achieve net zero emiss...\n",
      "7       Now, we are working to achieve our goal to be ...\n",
      "                              ...                        \n",
      "1428    By 2025, Meijer will reduce absolute carbon em...\n",
      "1429    Our INEOS businesses are developing roadmaps t...\n",
      "1430    Globally, we are committed to achieving net ze...\n",
      "1431    net zero by 2050 in our Scopes 1, 2, and 3 emi...\n",
      "1432    We will achieve Net Zero Emissions in our own ...\n",
      "Name: end_target_text_sanitized, Length: 1291, dtype: object\n"
     ]
    }
   ],
   "source": [
    "df = pd.DataFrame(data)\n",
    "\n",
    "# Check if a year is in the end target text. Otherwise it cant be an end target text\n",
    "# If endtarget is not a year it does not need to have a year.\n",
    "def contains_year(row):\n",
    "    if row['end_target_year'] == 'none':\n",
    "        return True\n",
    "    return str(row['end_target_year']) in str(row['end_target_text_sanitized'])\n",
    "\n",
    "# Apply the function to the dataframe\n",
    "filtered_df = df[df.apply(contains_year, axis=1)]\n",
    "\n",
    "print(filtered_df['end_target_text_sanitized'])"
   ]
  },
  {
   "cell_type": "markdown",
   "metadata": {},
   "source": [
    "Drop everything less than 50"
   ]
  },
  {
   "cell_type": "code",
   "execution_count": 26,
   "metadata": {},
   "outputs": [
    {
     "data": {
      "text/plain": [
       "(end_target\n",
       " Net zero                      706\n",
       " Carbon neutral(ity)           246\n",
       " Emissions reduction target    190\n",
       " Name: count, dtype: int64,\n",
       " count    1435.000000\n",
       " mean      200.160279\n",
       " std       185.712671\n",
       " min         9.000000\n",
       " 25%        87.000000\n",
       " 50%       153.000000\n",
       " 75%       257.500000\n",
       " max      3432.000000\n",
       " Name: end_target_text_sanitized, dtype: float64)"
      ]
     },
     "execution_count": 26,
     "metadata": {},
     "output_type": "execute_result"
    }
   ],
   "source": [
    "value_counts = filtered_df['end_target'].value_counts()\n",
    "filtered_values = value_counts[value_counts >= 50].index\n",
    "filtered_data = filtered_df[filtered_df['end_target'].isin(filtered_values)]\n",
    "filtered_data['end_target'].value_counts(), string_lengths.describe()"
   ]
  },
  {
   "cell_type": "code",
   "execution_count": 27,
   "metadata": {},
   "outputs": [],
   "source": [
    "filtered_data.to_excel('datasets/6-removed-everything-with-no-date-in-sanitzied-and-removed-classes-less-50.xlsx', index=False)"
   ]
  }
 ],
 "metadata": {
  "kernelspec": {
   "display_name": "Python 3",
   "language": "python",
   "name": "python3"
  },
  "language_info": {
   "codemirror_mode": {
    "name": "ipython",
    "version": 3
   },
   "file_extension": ".py",
   "mimetype": "text/x-python",
   "name": "python",
   "nbconvert_exporter": "python",
   "pygments_lexer": "ipython3",
   "version": "3.12.1"
  }
 },
 "nbformat": 4,
 "nbformat_minor": 2
}
