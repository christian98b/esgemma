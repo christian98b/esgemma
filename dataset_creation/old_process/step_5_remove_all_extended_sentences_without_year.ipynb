{
 "cells": [
  {
   "cell_type": "code",
   "execution_count": 1,
   "metadata": {},
   "outputs": [],
   "source": [
    "import pandas as pd"
   ]
  },
  {
   "cell_type": "code",
   "execution_count": 7,
   "metadata": {},
   "outputs": [],
   "source": [
    "data = pd.read_excel('datasets/8-extended-texts-and-generated-no-target-ones-with-totally-different-topic.xlsx')"
   ]
  },
  {
   "cell_type": "code",
   "execution_count": 8,
   "metadata": {},
   "outputs": [
    {
     "name": "stdout",
     "output_type": "stream",
     "text": [
      "0       Grupo Bimbo, the largest baking company in the...\n",
      "1       Our goal of achieving Net Zero by 2040 is a ch...\n",
      "3       One way that RBI plans to achieve this ambitio...\n",
      "4       In order to reach this ambitious reduction tar...\n",
      "5       In order to achieve this ambitious goal, Visa ...\n",
      "                              ...                        \n",
      "2656    Demand forecasting is a critical strategy for ...\n",
      "2657    As a thriving company, we are constantly seeki...\n",
      "2658    Demand forecasting is a critical aspect of run...\n",
      "2659    Performance Metrics are vital tools for compan...\n",
      "2660    Financial forecasting is an essential practice...\n",
      "Name: end_target_text_extended, Length: 2591, dtype: object\n"
     ]
    }
   ],
   "source": [
    "# Function to filter rows based on the given condition\n",
    "def filter_rows(df):\n",
    "    def contains_year(row):\n",
    "        if row['end_target_year'] == 'No target':\n",
    "            return True\n",
    "        return str(row['end_target_year']) in str(row['end_target_text_extended'])\n",
    "    \n",
    "    return df[df.apply(contains_year, axis=1)]\n",
    "\n",
    "# Apply the function to the dataframe\n",
    "filtered_df = filter_rows(data)\n",
    "\n",
    "print(filtered_df['end_target_text_extended'])"
   ]
  },
  {
   "cell_type": "code",
   "execution_count": 9,
   "metadata": {},
   "outputs": [],
   "source": [
    "filtered_df.to_excel('datasets/9-texts-with-end-target-but-no-year-are-removed.xlsx', index=False)"
   ]
  }
 ],
 "metadata": {
  "kernelspec": {
   "display_name": ".venv",
   "language": "python",
   "name": "python3"
  },
  "language_info": {
   "codemirror_mode": {
    "name": "ipython",
    "version": 3
   },
   "file_extension": ".py",
   "mimetype": "text/x-python",
   "name": "python",
   "nbconvert_exporter": "python",
   "pygments_lexer": "ipython3",
   "version": "3.12.5"
  }
 },
 "nbformat": 4,
 "nbformat_minor": 2
}
