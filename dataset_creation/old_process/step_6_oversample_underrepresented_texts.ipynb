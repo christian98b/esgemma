{
 "cells": [
  {
   "cell_type": "code",
   "execution_count": 1,
   "metadata": {},
   "outputs": [],
   "source": [
    "import pandas as pd\n",
    "import matplotlib.pyplot as plt\n",
    "from imblearn.over_sampling import RandomOverSampler"
   ]
  },
  {
   "cell_type": "code",
   "execution_count": 2,
   "metadata": {},
   "outputs": [],
   "source": [
    "data = pd.read_excel('datasets/dataset-made-out-of-9-with-all-but-40.xlsx')"
   ]
  },
  {
   "cell_type": "code",
   "execution_count": 3,
   "metadata": {},
   "outputs": [
    {
     "data": {
      "text/plain": [
       "(end_target_text_extended\n",
       " 1617    9\n",
       " 1945    8\n",
       " 1609    7\n",
       " 1748    7\n",
       " 1864    7\n",
       "        ..\n",
       " 1793    1\n",
       " 3308    1\n",
       " 2600    1\n",
       " 2732    1\n",
       " 1461    1\n",
       " Name: count, Length: 1299, dtype: int64,\n",
       " 2551)"
      ]
     },
     "execution_count": 3,
     "metadata": {},
     "output_type": "execute_result"
    }
   ],
   "source": [
    "string_lengths = data['end_target_text_extended'].str.len()\n",
    "string_length_distribution = string_lengths.value_counts()\n",
    "string_length_distribution, len(data)"
   ]
  },
  {
   "cell_type": "code",
   "execution_count": 4,
   "metadata": {},
   "outputs": [
    {
     "data": {
      "text/plain": [
       "(end_target\n",
       " No target                     1509\n",
       " Net zero                       668\n",
       " Carbon neutral(ity)            225\n",
       " Emissions reduction target     149\n",
       " Name: count, dtype: int64,\n",
       " count    2551.000000\n",
       " mean     1990.972560\n",
       " std       462.539718\n",
       " min       859.000000\n",
       " 25%      1673.000000\n",
       " 50%      1936.000000\n",
       " 75%      2249.500000\n",
       " max      5531.000000\n",
       " Name: end_target_text_extended, dtype: float64)"
      ]
     },
     "execution_count": 4,
     "metadata": {},
     "output_type": "execute_result"
    }
   ],
   "source": [
    "data['end_target'].value_counts(), string_lengths.describe()"
   ]
  },
  {
   "cell_type": "code",
   "execution_count": 5,
   "metadata": {},
   "outputs": [
    {
     "name": "stdout",
     "output_type": "stream",
     "text": [
      "end_target\n",
      "Net zero                      1509\n",
      "Carbon neutral(ity)           1509\n",
      "Emissions reduction target    1509\n",
      "No target                     1509\n",
      "Name: count, dtype: int64\n"
     ]
    }
   ],
   "source": [
    "df = data\n",
    "\n",
    "ros = RandomOverSampler(sampling_strategy='not majority', random_state=42)\n",
    "\n",
    "# Separate the features and the target\n",
    "X = df.drop(columns=['end_target'])\n",
    "y = df['end_target']\n",
    "\n",
    "# Fit and apply the oversampler\n",
    "X_resampled, y_resampled = ros.fit_resample(X, y)\n",
    "\n",
    "df_resampled = pd.concat([pd.DataFrame(X_resampled, columns=X.columns), pd.DataFrame(y_resampled, columns=['end_target'])], axis=1)\n",
    "\n",
    "print(df_resampled['end_target'].value_counts())"
   ]
  },
  {
   "cell_type": "code",
   "execution_count": 6,
   "metadata": {},
   "outputs": [],
   "source": [
    "df_resampled.to_excel('datasets/10-oversampled-dataset-with-even-classes-final.xlsx', index=False)"
   ]
  }
 ],
 "metadata": {
  "kernelspec": {
   "display_name": "Python 3",
   "language": "python",
   "name": "python3"
  },
  "language_info": {
   "codemirror_mode": {
    "name": "ipython",
    "version": 3
   },
   "file_extension": ".py",
   "mimetype": "text/x-python",
   "name": "python",
   "nbconvert_exporter": "python",
   "pygments_lexer": "ipython3",
   "version": "3.12.3"
  }
 },
 "nbformat": 4,
 "nbformat_minor": 2
}
