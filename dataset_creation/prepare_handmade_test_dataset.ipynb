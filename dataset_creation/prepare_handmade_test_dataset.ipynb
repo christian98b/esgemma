{
 "cells": [
  {
   "cell_type": "code",
   "execution_count": 1,
   "metadata": {},
   "outputs": [],
   "source": [
    "import pandas as pd\n",
    "##read sheets from the excel file individually and and then filter all rows out that arent the class\n",
    "# Second step is necessary as we just hidden the other classes in the individual excel sheets \n",
    "\n",
    "dataset_file_name : str = 'custom_dataset.xlsx'\n",
    "\n",
    "net_zero = pd.read_excel(io=dataset_file_name, sheet_name='Net Zero')\n",
    "net_zero = net_zero[net_zero['end_target'] == \"Net zero\"]\n",
    "\n",
    "carbon_neutrality = pd.read_excel(io=dataset_file_name, sheet_name='Carbon Neutrality')\n",
    "carbon_neutrality = carbon_neutrality[carbon_neutrality['end_target'] == \"Carbon neutral(ity)\"]\n",
    "\n",
    "emission_reduction_target = pd.read_excel(io=dataset_file_name, sheet_name='Emissions Reduction Target')\n",
    "emission_reduction_target = emission_reduction_target[emission_reduction_target['end_target'] == \"Emissions reduction target\"]\n",
    "\n",
    "no_target = pd.read_excel(io=dataset_file_name, sheet_name='No Target')\n",
    "no_target = no_target[no_target['end_target'] == \"No target\"]"
   ]
  },
  {
   "cell_type": "code",
   "execution_count": 2,
   "metadata": {},
   "outputs": [],
   "source": [
    "#Remove every row where the custom_text is NaN so only our rows remain\n",
    "net_zero.dropna(inplace=True, subset=['custom_text'])\n",
    "carbon_neutrality.dropna(inplace=True, subset=['custom_text'])\n",
    "emission_reduction_target.dropna(inplace=True, subset=['custom_text'])\n",
    "no_target.dropna(inplace=True, subset=['custom_text'])"
   ]
  },
  {
   "cell_type": "code",
   "execution_count": 3,
   "metadata": {},
   "outputs": [],
   "source": [
    "net_zero['Source'] = 'Net Zero'\n",
    "carbon_neutrality['Source'] = 'Carbon Neutrality'\n",
    "emission_reduction_target['Source'] = 'Emissions Reduction Target'\n",
    "no_target['Source'] = 'No Target'\n",
    "\n",
    "#Concat into a single dataframe\n",
    "all_targets = pd.concat([net_zero, carbon_neutrality, emission_reduction_target, no_target], ignore_index=True, axis=0)\n",
    "\n",
    "all_targets['end_target_year'] = pd.to_numeric(all_targets['end_target_year'], errors='coerce')\n",
    "all_targets['end_target_year'] = all_targets['end_target_year'].fillna(0).astype(int)\n",
    "all_targets['end_target_year'] = all_targets['end_target_year'].replace(0,'No target')\n",
    "all_targets['end_target_year'] = all_targets['end_target_year'].astype(str)"
   ]
  },
  {
   "cell_type": "code",
   "execution_count": 4,
   "metadata": {},
   "outputs": [],
   "source": [
    "#Filters everything out that is not part of the test dataset\n",
    "all_targets = all_targets[all_targets['test_dataset'] == 'x']"
   ]
  },
  {
   "cell_type": "code",
   "execution_count": 5,
   "metadata": {},
   "outputs": [
    {
     "data": {
      "text/plain": [
       "Source\n",
       "Carbon Neutrality             25\n",
       "Emissions Reduction Target    25\n",
       "Net Zero                      25\n",
       "No Target                     25\n",
       "Name: count, dtype: int64"
      ]
     },
     "execution_count": 5,
     "metadata": {},
     "output_type": "execute_result"
    }
   ],
   "source": [
    "all_targets.value_counts('Source')"
   ]
  },
  {
   "cell_type": "code",
   "execution_count": null,
   "metadata": {},
   "outputs": [],
   "source": [
    "from datasets import Dataset\n",
    "hf_dataset = Dataset.from_pandas(all_targets)"
   ]
  },
  {
   "cell_type": "code",
   "execution_count": null,
   "metadata": {},
   "outputs": [],
   "source": [
    "repo_name = 'chris7374/esg-net-zero'\n",
    "revision = 'test'\n",
    "hf_dataset.push_to_hub(repo_name, revision=revision)"
   ]
  }
 ],
 "metadata": {
  "kernelspec": {
   "display_name": "Python 3",
   "language": "python",
   "name": "python3"
  },
  "language_info": {
   "codemirror_mode": {
    "name": "ipython",
    "version": 3
   },
   "file_extension": ".py",
   "mimetype": "text/x-python",
   "name": "python",
   "nbconvert_exporter": "python",
   "pygments_lexer": "ipython3",
   "version": "3.12.3"
  }
 },
 "nbformat": 4,
 "nbformat_minor": 2
}
