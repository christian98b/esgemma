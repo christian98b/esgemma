{
 "cells": [
  {
   "cell_type": "code",
   "execution_count": 1,
   "metadata": {},
   "outputs": [],
   "source": [
    "import pandas as pd\n",
    "##read sheets from the excel file individually and and then filter all rows out that arent the class\n",
    "# Second step is necessary as we just hidden the other classes in the individual excel sheets \n",
    "\n",
    "dataset_file_name : str = 'custom_dataset.xlsx'\n",
    "\n",
    "net_zero = pd.read_excel(io=dataset_file_name, sheet_name='Net Zero')\n",
    "net_zero = net_zero[net_zero['end_target'] == \"Net zero\"]\n",
    "\n",
    "carbon_neutrality = pd.read_excel(io=dataset_file_name, sheet_name='Carbon Neutrality')\n",
    "carbon_neutrality = carbon_neutrality[carbon_neutrality['end_target'] == \"Carbon neutral(ity)\"]\n",
    "\n",
    "emission_reduction_target = pd.read_excel(io=dataset_file_name, sheet_name='Emissions Reduction Target')\n",
    "emission_reduction_target = emission_reduction_target[emission_reduction_target['end_target'] == \"Emissions reduction target\"]\n",
    "\n",
    "no_target = pd.read_excel(io=dataset_file_name, sheet_name='No Target')\n",
    "no_target = no_target[no_target['end_target'] == \"No target\"]"
   ]
  },
  {
   "cell_type": "code",
   "execution_count": 2,
   "metadata": {},
   "outputs": [],
   "source": [
    "#Remove every row where the custom_text is NaN so only our rows remain\n",
    "net_zero.dropna(inplace=True, subset=['custom_text'])\n",
    "carbon_neutrality.dropna(inplace=True, subset=['custom_text'])\n",
    "emission_reduction_target.dropna(inplace=True, subset=['custom_text'])\n",
    "no_target.dropna(inplace=True, subset=['custom_text'])"
   ]
  },
  {
   "cell_type": "code",
   "execution_count": 3,
   "metadata": {},
   "outputs": [],
   "source": [
    "net_zero['Source'] = 'Net Zero'\n",
    "carbon_neutrality['Source'] = 'Carbon Neutrality'\n",
    "emission_reduction_target['Source'] = 'Emissions Reduction Target'\n",
    "no_target['Source'] = 'No Target'\n",
    "\n",
    "#Concat into a single dataframe\n",
    "all_targets = pd.concat([net_zero, carbon_neutrality, emission_reduction_target, no_target], ignore_index=True, axis=0)\n",
    "\n",
    "all_targets['end_target_year'] = pd.to_numeric(all_targets['end_target_year'], errors='coerce')\n",
    "all_targets['end_target_year'] = all_targets['end_target_year'].fillna(0).astype(int)\n",
    "all_targets['end_target_year'] = all_targets['end_target_year'].replace(0,'No target')\n",
    "all_targets['end_target_year'] = all_targets['end_target_year'].astype(str)"
   ]
  },
  {
   "cell_type": "code",
   "execution_count": 4,
   "metadata": {},
   "outputs": [],
   "source": [
    "all_targets.drop(all_targets[all_targets['test_dataset'] == 'x'].index, inplace=True)\n",
    "all_targets.drop(all_targets[all_targets['val_dataset'] == 'x'].index, inplace=True)"
   ]
  },
  {
   "cell_type": "code",
   "execution_count": 5,
   "metadata": {},
   "outputs": [
    {
     "data": {
      "text/plain": [
       "end_target\n",
       "Carbon neutral(ity)           114\n",
       "Net zero                      103\n",
       "No target                     102\n",
       "Emissions reduction target    100\n",
       "Name: count, dtype: int64"
      ]
     },
     "execution_count": 5,
     "metadata": {},
     "output_type": "execute_result"
    }
   ],
   "source": [
    "all_targets.value_counts('end_target')"
   ]
  },
  {
   "cell_type": "code",
   "execution_count": 6,
   "metadata": {},
   "outputs": [
    {
     "name": "stdout",
     "output_type": "stream",
     "text": [
      "end_target\n",
      "Carbon neutral(ity)           27.207637\n",
      "Net zero                      24.582339\n",
      "No target                     24.343675\n",
      "Emissions reduction target    23.866348\n",
      "Name: proportion, dtype: float64\n"
     ]
    }
   ],
   "source": [
    "percentages = all_targets['end_target'].value_counts(normalize=True) * 100\n",
    "print(percentages)"
   ]
  },
  {
   "cell_type": "code",
   "execution_count": null,
   "metadata": {},
   "outputs": [],
   "source": [
    "from datasets import Dataset\n",
    "hf_dataset = Dataset.from_pandas(all_targets)"
   ]
  },
  {
   "cell_type": "code",
   "execution_count": null,
   "metadata": {},
   "outputs": [],
   "source": [
    "from dotenv import load_dotenv\n",
    "load_dotenv()\n",
    "import os\n",
    "\n",
    "upload_key = os.environ['HUGGINGFACE_UPLOAD']\n",
    "\n",
    "repo_name = 'chris7374/esg-net-zero'\n",
    "revision = '100_per_class_v3'\n",
    "hf_dataset.push_to_hub(repo_name, revision=revision, token=upload_key)"
   ]
  }
 ],
 "metadata": {
  "kernelspec": {
   "display_name": "base",
   "language": "python",
   "name": "python3"
  },
  "language_info": {
   "codemirror_mode": {
    "name": "ipython",
    "version": 3
   },
   "file_extension": ".py",
   "mimetype": "text/x-python",
   "name": "python",
   "nbconvert_exporter": "python",
   "pygments_lexer": "ipython3",
   "version": "3.11.7"
  }
 },
 "nbformat": 4,
 "nbformat_minor": 2
}
