{
 "cells": [
  {
   "cell_type": "code",
   "execution_count": null,
   "metadata": {},
   "outputs": [],
   "source": [
    "import os\n",
    "import torch\n",
    "from unsloth import FastLanguageModel\n",
    "from huggingface_hub import HfApi\n",
    "\n",
    "def upload_checkpoint(checkpoint_path : str, repo_id : str):\n",
    "    max_seq_length : int = 8192\n",
    "    dtype = None\n",
    "    load_in_4bit : bool = True\n",
    "\n",
    "    try:\n",
    "        model, tokenizer = FastLanguageModel.from_pretrained(\n",
    "            checkpoint_path,\n",
    "            max_seq_length=max_seq_length,\n",
    "            dtype=dtype,\n",
    "            load_in_4bit=load_in_4bit,\n",
    "            device_map='auto'\n",
    "        )\n",
    "\n",
    "        branch_name : str = os.path.basename(checkpoint_path)\n",
    "        \n",
    "        # Create a new branch for this checkpoint\n",
    "        api = HfApi()\n",
    "        api.create_branch(repo_id=repo_id, branch=branch_name)\n",
    "\n",
    "        # Push model and tokenizer to the new branch\n",
    "        model.push_to_hub(repo_id=repo_id, revision=branch_name)\n",
    "        tokenizer.push_to_hub(repo_id=repo_id, revision=branch_name)\n",
    "        print(f\"Uploaded checkpoint {checkpoint_path} to branch {branch_name}\")\n",
    "    except Exception as e:\n",
    "        print(f\"An error occurred: {e}\")\n",
    "    finally:\n",
    "        # Delete model and tokenizer to free up memory\n",
    "        del model\n",
    "        del tokenizer\n",
    "\n",
    "        # Clear CUDA cache\n",
    "        if torch.cuda.is_available():\n",
    "            torch.cuda.empty_cache()"
   ]
  },
  {
   "cell_type": "code",
   "execution_count": null,
   "metadata": {},
   "outputs": [],
   "source": [
    "checkpoints_folder : str = \"finetuning-scripts/finetune-gemma-2-2b-old/outputsgemma2-2b-it-esg\"  # Replace with your folder path\n",
    "repo_id : str = \"chris7374/esgemma-2b-synthetic-data-final-2e-4\"  # Hugging Face repository ID\n",
    "\n",
    "#Iterate all subfolders and upload the model and tokenizer\n",
    "for checkpoint in os.listdir(checkpoints_folder):\n",
    "    checkpoint_path : str = os.path.join(checkpoints_folder, checkpoint)\n",
    "    if os.path.isdir(checkpoint_path):\n",
    "        upload_checkpoint(checkpoint_path=checkpoint_path, repo_id=repo_id)"
   ]
  }
 ],
 "metadata": {
  "kernelspec": {
   "display_name": "Python 3",
   "language": "python",
   "name": "python3"
  },
  "language_info": {
   "name": "python",
   "version": "3.12.3"
  }
 },
 "nbformat": 4,
 "nbformat_minor": 2
}
