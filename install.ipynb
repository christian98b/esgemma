{
 "cells": [
  {
   "cell_type": "code",
   "execution_count": 1,
   "metadata": {},
   "outputs": [
    {
     "name": "stdout",
     "output_type": "stream",
     "text": [
      "Collecting openai==1.51.2 (from -r requirements.txt (line 1))\n",
      "  Using cached openai-1.51.2-py3-none-any.whl.metadata (24 kB)\n",
      "Collecting pandas==2.2.3 (from -r requirements.txt (line 4))\n",
      "  Using cached pandas-2.2.3-cp312-cp312-macosx_11_0_arm64.whl.metadata (89 kB)\n",
      "Requirement already satisfied: python-dotenv==1.0.1 in /Users/christianbruns/.pyenv/versions/3.12.3/lib/python3.12/site-packages (from -r requirements.txt (line 7)) (1.0.1)\n",
      "Collecting datasets==3.0.1 (from -r requirements.txt (line 10))\n",
      "  Using cached datasets-3.0.1-py3-none-any.whl.metadata (20 kB)\n",
      "Collecting numpy==2.1.2 (from -r requirements.txt (line 13))\n",
      "  Using cached numpy-2.1.2-cp312-cp312-macosx_14_0_arm64.whl.metadata (60 kB)\n",
      "Collecting matplotlib==3.9.2 (from -r requirements.txt (line 16))\n",
      "  Using cached matplotlib-3.9.2-cp312-cp312-macosx_11_0_arm64.whl.metadata (11 kB)\n",
      "Requirement already satisfied: seaborn==0.13.2 in /Users/christianbruns/.pyenv/versions/3.12.3/lib/python3.12/site-packages (from -r requirements.txt (line 19)) (0.13.2)\n",
      "Collecting scikit-learn==1.5.2 (from -r requirements.txt (line 22))\n",
      "  Using cached scikit_learn-1.5.2-cp312-cp312-macosx_12_0_arm64.whl.metadata (13 kB)\n",
      "Requirement already satisfied: python-docx==1.1.2 in /Users/christianbruns/.pyenv/versions/3.12.3/lib/python3.12/site-packages (from -r requirements.txt (line 25)) (1.1.2)\n",
      "Collecting ipywidgets==8.1.5 (from -r requirements.txt (line 28))\n",
      "  Using cached ipywidgets-8.1.5-py3-none-any.whl.metadata (2.3 kB)\n",
      "\u001b[31mERROR: Ignored the following versions that require a different python version: 1.21.2 Requires-Python >=3.7,<3.11; 1.21.3 Requires-Python >=3.7,<3.11; 1.21.4 Requires-Python >=3.7,<3.11; 1.21.5 Requires-Python >=3.7,<3.11; 1.21.6 Requires-Python >=3.7,<3.11\u001b[0m\u001b[31m\n",
      "\u001b[0m\u001b[31mERROR: Could not find a version that satisfies the requirement unittest==3.13.0 (from versions: none)\u001b[0m\u001b[31m\n",
      "\u001b[0m\u001b[31mERROR: No matching distribution found for unittest==3.13.0\u001b[0m\u001b[31m\n",
      "\u001b[0m"
     ]
    }
   ],
   "source": [
    "!pip install -r requirements.txt"
   ]
  }
 ],
 "metadata": {
  "kernelspec": {
   "display_name": "Python 3",
   "language": "python",
   "name": "python3"
  },
  "language_info": {
   "codemirror_mode": {
    "name": "ipython",
    "version": 3
   },
   "file_extension": ".py",
   "mimetype": "text/x-python",
   "name": "python",
   "nbconvert_exporter": "python",
   "pygments_lexer": "ipython3",
   "version": "3.12.3"
  }
 },
 "nbformat": 4,
 "nbformat_minor": 2
}
